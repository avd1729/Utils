{
 "cells": [
  {
   "cell_type": "code",
   "execution_count": 93,
   "metadata": {},
   "outputs": [],
   "source": [
    "def tables(n):\n",
    "\n",
    "    for i in range(1,n+1):\n",
    "        print(f\"{i} - multiplication table\")\n",
    "        print()\n",
    "        for j in range(1,11):\n",
    "            print(f\"{i} x {j} = {i*j}\" , end=\" \")\n",
    "            print(\"\")\n",
    "        print()"
   ]
  },
  {
   "cell_type": "code",
   "execution_count": 94,
   "metadata": {},
   "outputs": [
    {
     "name": "stdout",
     "output_type": "stream",
     "text": [
      "1 - multiplication table\n",
      "\n",
      "1 x 1 = 1 \n",
      "1 x 2 = 2 \n",
      "1 x 3 = 3 \n",
      "1 x 4 = 4 \n",
      "1 x 5 = 5 \n",
      "1 x 6 = 6 \n",
      "1 x 7 = 7 \n",
      "1 x 8 = 8 \n",
      "1 x 9 = 9 \n",
      "1 x 10 = 10 \n",
      "\n",
      "2 - multiplication table\n",
      "\n",
      "2 x 1 = 2 \n",
      "2 x 2 = 4 \n",
      "2 x 3 = 6 \n",
      "2 x 4 = 8 \n",
      "2 x 5 = 10 \n",
      "2 x 6 = 12 \n",
      "2 x 7 = 14 \n",
      "2 x 8 = 16 \n",
      "2 x 9 = 18 \n",
      "2 x 10 = 20 \n",
      "\n",
      "3 - multiplication table\n",
      "\n",
      "3 x 1 = 3 \n",
      "3 x 2 = 6 \n",
      "3 x 3 = 9 \n",
      "3 x 4 = 12 \n",
      "3 x 5 = 15 \n",
      "3 x 6 = 18 \n",
      "3 x 7 = 21 \n",
      "3 x 8 = 24 \n",
      "3 x 9 = 27 \n",
      "3 x 10 = 30 \n",
      "\n",
      "4 - multiplication table\n",
      "\n",
      "4 x 1 = 4 \n",
      "4 x 2 = 8 \n",
      "4 x 3 = 12 \n",
      "4 x 4 = 16 \n",
      "4 x 5 = 20 \n",
      "4 x 6 = 24 \n",
      "4 x 7 = 28 \n",
      "4 x 8 = 32 \n",
      "4 x 9 = 36 \n",
      "4 x 10 = 40 \n",
      "\n",
      "5 - multiplication table\n",
      "\n",
      "5 x 1 = 5 \n",
      "5 x 2 = 10 \n",
      "5 x 3 = 15 \n",
      "5 x 4 = 20 \n",
      "5 x 5 = 25 \n",
      "5 x 6 = 30 \n",
      "5 x 7 = 35 \n",
      "5 x 8 = 40 \n",
      "5 x 9 = 45 \n",
      "5 x 10 = 50 \n",
      "\n",
      "6 - multiplication table\n",
      "\n",
      "6 x 1 = 6 \n",
      "6 x 2 = 12 \n",
      "6 x 3 = 18 \n",
      "6 x 4 = 24 \n",
      "6 x 5 = 30 \n",
      "6 x 6 = 36 \n",
      "6 x 7 = 42 \n",
      "6 x 8 = 48 \n",
      "6 x 9 = 54 \n",
      "6 x 10 = 60 \n",
      "\n",
      "7 - multiplication table\n",
      "\n",
      "7 x 1 = 7 \n",
      "7 x 2 = 14 \n",
      "7 x 3 = 21 \n",
      "7 x 4 = 28 \n",
      "7 x 5 = 35 \n",
      "7 x 6 = 42 \n",
      "7 x 7 = 49 \n",
      "7 x 8 = 56 \n",
      "7 x 9 = 63 \n",
      "7 x 10 = 70 \n",
      "\n",
      "8 - multiplication table\n",
      "\n",
      "8 x 1 = 8 \n",
      "8 x 2 = 16 \n",
      "8 x 3 = 24 \n",
      "8 x 4 = 32 \n",
      "8 x 5 = 40 \n",
      "8 x 6 = 48 \n",
      "8 x 7 = 56 \n",
      "8 x 8 = 64 \n",
      "8 x 9 = 72 \n",
      "8 x 10 = 80 \n",
      "\n",
      "9 - multiplication table\n",
      "\n",
      "9 x 1 = 9 \n",
      "9 x 2 = 18 \n",
      "9 x 3 = 27 \n",
      "9 x 4 = 36 \n",
      "9 x 5 = 45 \n",
      "9 x 6 = 54 \n",
      "9 x 7 = 63 \n",
      "9 x 8 = 72 \n",
      "9 x 9 = 81 \n",
      "9 x 10 = 90 \n",
      "\n",
      "10 - multiplication table\n",
      "\n",
      "10 x 1 = 10 \n",
      "10 x 2 = 20 \n",
      "10 x 3 = 30 \n",
      "10 x 4 = 40 \n",
      "10 x 5 = 50 \n",
      "10 x 6 = 60 \n",
      "10 x 7 = 70 \n",
      "10 x 8 = 80 \n",
      "10 x 9 = 90 \n",
      "10 x 10 = 100 \n",
      "\n"
     ]
    }
   ],
   "source": [
    "tables(10)"
   ]
  },
  {
   "cell_type": "code",
   "execution_count": 95,
   "metadata": {},
   "outputs": [],
   "source": [
    "def tables(n):\n",
    "\n",
    "    for i in range(1,n+1):\n",
    "\n",
    "        print(f\"{i} - multiplication table\")\n",
    "        print()\n",
    "        \n",
    "        if i % 2 == 1 :\n",
    "\n",
    "            for j in range(2 , 11 , 2):\n",
    "\n",
    "                print(f\"{i} x {j} = {i*j}\" , end=\" \")\n",
    "                print(\"\")\n",
    "            print()\n",
    "\n",
    "        else :\n",
    "\n",
    "            for j in range(1 , 11 , 2):\n",
    "\n",
    "                print(f\"{i} x {j} = {i*j}\" , end=\" \")\n",
    "                print(\"\")\n",
    "            print()"
   ]
  },
  {
   "cell_type": "code",
   "execution_count": 96,
   "metadata": {},
   "outputs": [
    {
     "name": "stdout",
     "output_type": "stream",
     "text": [
      "1 - multiplication table\n",
      "\n",
      "1 x 2 = 2 \n",
      "1 x 4 = 4 \n",
      "1 x 6 = 6 \n",
      "1 x 8 = 8 \n",
      "1 x 10 = 10 \n",
      "\n",
      "2 - multiplication table\n",
      "\n",
      "2 x 1 = 2 \n",
      "2 x 3 = 6 \n",
      "2 x 5 = 10 \n",
      "2 x 7 = 14 \n",
      "2 x 9 = 18 \n",
      "\n",
      "3 - multiplication table\n",
      "\n",
      "3 x 2 = 6 \n",
      "3 x 4 = 12 \n",
      "3 x 6 = 18 \n",
      "3 x 8 = 24 \n",
      "3 x 10 = 30 \n",
      "\n",
      "4 - multiplication table\n",
      "\n",
      "4 x 1 = 4 \n",
      "4 x 3 = 12 \n",
      "4 x 5 = 20 \n",
      "4 x 7 = 28 \n",
      "4 x 9 = 36 \n",
      "\n",
      "5 - multiplication table\n",
      "\n",
      "5 x 2 = 10 \n",
      "5 x 4 = 20 \n",
      "5 x 6 = 30 \n",
      "5 x 8 = 40 \n",
      "5 x 10 = 50 \n",
      "\n",
      "6 - multiplication table\n",
      "\n",
      "6 x 1 = 6 \n",
      "6 x 3 = 18 \n",
      "6 x 5 = 30 \n",
      "6 x 7 = 42 \n",
      "6 x 9 = 54 \n",
      "\n",
      "7 - multiplication table\n",
      "\n",
      "7 x 2 = 14 \n",
      "7 x 4 = 28 \n",
      "7 x 6 = 42 \n",
      "7 x 8 = 56 \n",
      "7 x 10 = 70 \n",
      "\n",
      "8 - multiplication table\n",
      "\n",
      "8 x 1 = 8 \n",
      "8 x 3 = 24 \n",
      "8 x 5 = 40 \n",
      "8 x 7 = 56 \n",
      "8 x 9 = 72 \n",
      "\n",
      "9 - multiplication table\n",
      "\n",
      "9 x 2 = 18 \n",
      "9 x 4 = 36 \n",
      "9 x 6 = 54 \n",
      "9 x 8 = 72 \n",
      "9 x 10 = 90 \n",
      "\n",
      "10 - multiplication table\n",
      "\n",
      "10 x 1 = 10 \n",
      "10 x 3 = 30 \n",
      "10 x 5 = 50 \n",
      "10 x 7 = 70 \n",
      "10 x 9 = 90 \n",
      "\n"
     ]
    }
   ],
   "source": [
    "tables(10)"
   ]
  },
  {
   "cell_type": "code",
   "execution_count": 97,
   "metadata": {},
   "outputs": [],
   "source": [
    "s = \"hey there\\n aravind hey\\n hi bye hey\\n\""
   ]
  },
  {
   "cell_type": "code",
   "execution_count": 98,
   "metadata": {},
   "outputs": [],
   "source": [
    "l = s.split()"
   ]
  },
  {
   "cell_type": "code",
   "execution_count": 99,
   "metadata": {},
   "outputs": [
    {
     "data": {
      "text/plain": [
       "['hey', 'there', 'aravind', 'hey', 'hi', 'bye', 'hey']"
      ]
     },
     "execution_count": 99,
     "metadata": {},
     "output_type": "execute_result"
    }
   ],
   "source": [
    "l"
   ]
  },
  {
   "cell_type": "code",
   "execution_count": 100,
   "metadata": {},
   "outputs": [
    {
     "data": {
      "text/plain": [
       "['hey there', ' aravind hey', ' hi bye hey', '']"
      ]
     },
     "execution_count": 100,
     "metadata": {},
     "output_type": "execute_result"
    }
   ],
   "source": [
    "l = s.split(sep=\"\\n\")\n",
    "l"
   ]
  },
  {
   "cell_type": "code",
   "execution_count": 101,
   "metadata": {},
   "outputs": [],
   "source": [
    "s= []\n",
    "\n",
    "for i in l:\n",
    "\n",
    "    s.append(i.split())\n",
    "\n"
   ]
  },
  {
   "cell_type": "code",
   "execution_count": 102,
   "metadata": {},
   "outputs": [
    {
     "data": {
      "text/plain": [
       "[['hey', 'there'], ['aravind', 'hey'], ['hi', 'bye', 'hey'], []]"
      ]
     },
     "execution_count": 102,
     "metadata": {},
     "output_type": "execute_result"
    }
   ],
   "source": [
    "s"
   ]
  },
  {
   "cell_type": "code",
   "execution_count": 103,
   "metadata": {},
   "outputs": [],
   "source": [
    "def find(target):\n",
    "    for i in range(len(s)):\n",
    "        for j in range(len(s[i])):\n",
    "\n",
    "            if target == s[i][j]:\n",
    "\n",
    "                print(f\"{i+1}  sentence {j} th position\")\n",
    "                print(\"\")\n",
    "        print()"
   ]
  },
  {
   "cell_type": "code",
   "execution_count": 104,
   "metadata": {},
   "outputs": [
    {
     "name": "stdout",
     "output_type": "stream",
     "text": [
      "1  sentence 0 th position\n",
      "\n",
      "\n",
      "2  sentence 1 th position\n",
      "\n",
      "\n",
      "3  sentence 2 th position\n",
      "\n",
      "\n",
      "\n"
     ]
    }
   ],
   "source": [
    "find(\"hey\")\n"
   ]
  },
  {
   "cell_type": "code",
   "execution_count": null,
   "metadata": {},
   "outputs": [],
   "source": [
    "[[0,50,30,110],\n",
    " [50,0,120,38],\n",
    " [30,120,0,75],\n",
    " [110,38,75,0]]"
   ]
  },
  {
   "cell_type": "code",
   "execution_count": 107,
   "metadata": {},
   "outputs": [
    {
     "name": "stdout",
     "output_type": "stream",
     "text": [
      "Best Path: (0, 1, 3, 2)\n",
      "Minimum Distance: 193\n"
     ]
    }
   ],
   "source": [
    "import itertools\n",
    "\n",
    "def total_distance(path, dist_matrix):\n",
    "\n",
    "    dist = 0\n",
    "    num_cities = len(path)\n",
    "    for i in range(num_cities - 1):\n",
    "        dist += dist_matrix[path[i]][path[i+1]]\n",
    "    dist += dist_matrix[path[-1]][path[0]] \n",
    "    return dist\n",
    "\n",
    "def traveling_salesman(dist_matrix):\n",
    "    num_cities = len(dist_matrix)\n",
    "    \n",
    "    all_permutations = itertools.permutations(range(num_cities))\n",
    "    min_distance = float('inf')\n",
    "    best_path = None\n",
    "    for permutation in all_permutations:\n",
    "        d = total_distance(permutation, dist_matrix)\n",
    "        if d < min_distance:\n",
    "            min_distance = d\n",
    "            best_path = permutation\n",
    "    return best_path, min_distance\n",
    "\n",
    "best_path, min_distance = traveling_salesman(grid)\n",
    "print(\"Best Path:\", best_path)\n",
    "print(\"Minimum Distance:\", min_distance)\n"
   ]
  }
 ],
 "metadata": {
  "kernelspec": {
   "display_name": "Python 3",
   "language": "python",
   "name": "python3"
  },
  "language_info": {
   "codemirror_mode": {
    "name": "ipython",
    "version": 3
   },
   "file_extension": ".py",
   "mimetype": "text/x-python",
   "name": "python",
   "nbconvert_exporter": "python",
   "pygments_lexer": "ipython3",
   "version": "3.11.5"
  }
 },
 "nbformat": 4,
 "nbformat_minor": 2
}
